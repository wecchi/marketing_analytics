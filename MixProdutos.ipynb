{
 "cells": [
  {
   "cell_type": "markdown",
   "metadata": {},
   "source": [
    "<h1 style=\"background:#6A9662; color:#FFF; padding:5px;\">Marketing Analytics com Python</h1>\n",
    "\n",
    "# <font color='#6A9662'>Definição de mix de produtos para otimizar lucro</font>"
   ]
  },
  {
   "cell_type": "code",
   "execution_count": 1,
   "metadata": {},
   "outputs": [
    {
     "name": "stdout",
     "output_type": "stream",
     "text": [
      "Versão da Linguagem Python Usada Neste Jupyter Notebook: 3.7.4\n"
     ]
    }
   ],
   "source": [
    "# Versão da Linguagem Python\n",
    "from platform import python_version\n",
    "print('Versão da Linguagem Python usada neste Jupyter Notebook:', python_version())"
   ]
  },
  {
   "cell_type": "markdown",
   "metadata": {},
   "source": [
    "<h2 style=\"background:#6A9662; color:#FFF; padding:5px;\">0. Definindo o problema de negócios</h2>\n",
    "\n",
    "> A empresa *Lua Smart Techmonta* vende os modelos de smartphones, **Lua1**, **Lua2**, **Lua3**, **Lua4**, **Lua5**. A empresa está elaborando uma campanha *X* de marketing digital nas principais mídias sociais e precisa decidir quantas unidadesde de cada um dos modelos vai promover. Considerando que não há nenhum smartphone em estoque para esta campanha *X* e que após a camanha esses modelos serão atualizados e, por tanto, a empresa não quer manter nada em estoque.<br />\n",
    "<mark> A *LuaSmart Tech* deseja saber quantas unidadesde de cada um de seus atuais modelos deve produzir (montar, testar e trabalhar na campanha de marketing *X*) para **maximizar seu lucro líquido**</mark> tendo como restrição não exceder mais horas de trabalho do que as disponíveis e também não deseja produzir mais do que pode vender pelos canais digitais; conforme seu plano de vendas elaborado pelo Departamento de Marketing:\n",
    "\n",
    "|Modelo|Qtde máxima da<br> campanha ($N_i$)|Valor unitário <br> para venda ($V_i$)|\n",
    "|:-----|--------------------------------:|-------------------------------------:|\n",
    "|Lua1|500|640|\n",
    "|Lua2|600|790|\n",
    "|Lua3|750|880|\n",
    "|Lua4|900|950|\n",
    "|Lua5|1200|1100|\n",
    "\n",
    "<u>Nota:</u> a quantidade mínima para cada um dos modelos deve ser de **200 unidades**\n",
    "\n",
    "#### Composição dos custos\n",
    "\n",
    "O **custo** dos componentes, bem como o tempo para montagem e testes são os seguintes:\n",
    "\n",
    "|Modelo|Custo total dos <br> componentes ($C_i$)|Horas para <br> montagem ($Hm_i$)|Horas para <br> teste ($Ht_i$)|\n",
    "|:-----|---------------------------------------:|--------------------------------:|-----------------------------:|\n",
    "|Lua1|330|5|1|\n",
    "|Lua2|400|6|1|\n",
    "|Lua3|440|7|2|\n",
    "|Lua4|500|8|2|\n",
    "|Lua5|620|9|3|\n",
    "\n",
    "#### Restrições quanto a mão de obra necessária para a montagem e testes:\n",
    "\n",
    "- Existem no **máximo 20.000 horas de montagem** e **4.000 horas de teste** disponíveis**. \n",
    "- Cada hora de trabalho para <mark>montagem custa R\\$11</mark> para os modelos Lua1, Lua2 e Lua3 e <mark>R\\$17</mark> para os modelos Lua4 e Lua5\n",
    "- Cada hora de trabalho para <mark>teste custa R\\$15</mark> para todos os modelos. \n",
    "\n",
    "### Objetivo do projeto\n",
    "\n",
    "Realizar a **otimização de preços** e compor um mix dos produtos da *LuaSmart Tech*, isto é, o objetivo é **maximizar o lucro**"
   ]
  },
  {
   "cell_type": "markdown",
   "metadata": {},
   "source": [
    "<h2 style=\"background:#6A9662; color:#FFF; padding:5px;\">1. Instalando e carregando o pacotes PuLP</h2>\n",
    "\n",
    "Resolver um problema de otimização não é um processo linear, mas o processo pode ser dividido em cinco etapas gerais:\n",
    "\n",
    "1. Obtendo a descrição do problema\n",
    "2. Formulando o programa matemático\n",
    "3. Resolvendo o programa matemático\n",
    "4. Executar algumas análises pós-ideais\n",
    "5. Apresentando a solução e análise\n",
    "\n",
    "No entanto, muitas vezes existem “ciclos de feedback” neste processo. Por exemplo, depois de formular e resolver um problema de otimização, você frequentemente desejará considerar a validade de sua solução (geralmente consultando a pessoa que forneceu a descrição do problema). Se sua solução for inválida, você pode precisar alterar ou atualizar sua formulação para incorporar seu novo entendimento do problema real. Este processo é mostrado no Diagrama de Metodologia de Pesquisa Operacional.\n",
    "![title](https://coin-or.github.io/pulp/_images/or_methodology.jpg)\n",
    "\n",
    "<u>Links úteis:</u>\n",
    "- [pypi](https://pypi.org/project/PuLP/)\n",
    "- [documentation](https://coin-or.github.io/pulp/)\n",
    "- [pulp: Pulp classes](https://www.coin-or.org/PuLP/pulp.html)"
   ]
  },
  {
   "cell_type": "code",
   "execution_count": 2,
   "metadata": {},
   "outputs": [],
   "source": [
    "# Imports\n",
    "from pulp import *"
   ]
  },
  {
   "cell_type": "code",
   "execution_count": 3,
   "metadata": {},
   "outputs": [
    {
     "name": "stdout",
     "output_type": "stream",
     "text": [
      "Author: Wecchi Data Science\n",
      "\n",
      "sys    : 3.7.4 (default, Aug  9 2019, 18:34:13) [MSC v.1915 64 bit (AMD64)]\n",
      "re     : 2.2.1\n",
      "ctypes : 1.1.0\n",
      "json   : 2.0.9\n",
      "logging: 0.5.1.2\n",
      "pulp   : 2.4\n",
      "\n"
     ]
    }
   ],
   "source": [
    "# Versões dos pacotes usados neste jupyter notebook\n",
    "%reload_ext watermark\n",
    "%watermark -a \"Wecchi Data Science\" --iversions"
   ]
  },
  {
   "cell_type": "markdown",
   "metadata": {},
   "source": [
    "<h2 style=\"background:#6A9662; color:#FFF; padding:5px;\">2. Criando o modelo matemático para a otimização</h2>"
   ]
  },
  {
   "cell_type": "markdown",
   "metadata": {},
   "source": [
    "### <u>Parâmetros</u>\n",
    "\n",
    "- **$N_{i}$** = Número máximo de smartphones modelo tipo i para venda, onde i pertence ao conjunto {Lua1, Lua2, Lua3, Lua4, Lua5}\n",
    "- **$V_{i}$** = Preço de venda de smartphones modelo tipo i, onde i pertence ao conjunto {Lua1, Lua2, Lua3, Lua4, Lua5}\n",
    "- **$C_{i}$** = Custo das peças e componentes para montagem do smartphones modelo tipo i, onde i pertence ao conjunto {Lua1, Lua2, Lua3, Lua4, Lua5}\n",
    "- **$MOm_{i}$** = Custo de mão de obra de montagem por hora de smartphones modelo tipo i, onde i pertence ao conjunto {Lua1, Lua2, Lua3, Lua4, Lua5}\n",
    "- **$MOt_{i}$** = Custo de mão de obra de teste por hora de smartphones modelo tipo i, onde i pertence ao conjunto {Lua1, Lua2, Lua3, Lua4, Lua5}\n",
    "- **$Hm_{i}$** = Horas de montagem necessárias para construir cada modelo de smartphone tipo i, onde i pertence ao conjunto {Lua1, Lua2, Lua3, Lua4, Lua5}\n",
    "- **$Ht_{i}$** = Horas de teste necessárias para testar cada modelo de smartphone tipo i, onde i pertence ao conjunto {Lua1, Lua2, Lua3, Lua4, Lua5}\n",
    "- **$Hm$** = Número **máximo** de horas de trabalho de montagem\n",
    "- **$Ht$** = Número **máximo** de horas de trabalho de teste"
   ]
  },
  {
   "cell_type": "markdown",
   "metadata": {},
   "source": [
    "### <u>Variável de decisão</u>\n",
    "\n",
    "- **$X_{i}$** = Número de smartphones modelo tipo i a produzir este mês, onde i pertence ao conjunto {Lua1, Lua2, Lua3, Lua4, Lua5}"
   ]
  },
  {
   "cell_type": "markdown",
   "metadata": {},
   "source": [
    "### <u>Função Objetivo</u>: $Venda - MO_{montagem} - MO_{testes} - Custo_{peças}$\n",
    "\n",
    "### $$Lucro=\\sum_{i=1}^{5}(X_i \\times V_i) - \\sum_{i=1}^{5}(X_i \\times MOm_i \\times Hm_i) - \\sum_{i=1}^{5}(X_i \\times MOt_i \\times Ht_i) - \\sum_{i=1}^{5}(X_i \\times C_i)$$"
   ]
  },
  {
   "cell_type": "markdown",
   "metadata": {},
   "source": [
    "### <u>Restrições impostas pela campanha de Marketing</u>\n",
    "\n",
    "- O número de smartphones modelo tipo i a serem produzidos não pode ser inferior a 200, ou seja, $X_i >= 200$, onde i pertence ao conjunto {Lua1, Lua2, Lua3, Lua4, Lua5}.\n",
    "\n",
    "- O número total de horas de montagem - $Hm$ - não pode ser maior que o número máximo de horas de mão de obra de montagem disponíveis (**limitados a 20.000**).\n",
    "\n",
    "- O número total de horas de teste - $Ht$ - não pode ser maior do que o máximo de horas de mão de obra de teste disponíveis (**limitados a 4.000**).\n",
    "\n",
    "- O número de smartphones modelo tipo i a serem produzidos - $X_i$ - não pode ser maior do que o número máximo de smartphones modelo tipo i a serem vendidos no mês - $N_i$ -, onde i pertence ao conjunto {Lua1, Lua2, Lua3, Lua4, Lua5}, pois isso poderia acarretar num estoque que deve ser evitado por questões de custos e de depreciação do produto que será descontinuado.\n",
    "\n",
    "- Considerações conforme a definição do *público alvo* estabelecida pelo Departamento de Marketing na campanha vigente:\n",
    "    - O número de smartphones modelo tipo **Lua5** não pode ser maior que o dobro da soma dos modelos tipo **Lua1** e **Lua3**: $X_5 \\le 2\\times(X_1 + X_3)$\n",
    "    - O número de smartphones modelo tipo **Lua4** deve ser metade do valor da soma das quantidaes para os modelos tipo **Lua2** e **Lua3**: $X_4 = \\frac{(X_2 + X_3)}{2}$ "
   ]
  },
  {
   "cell_type": "markdown",
   "metadata": {},
   "source": [
    "<h2 style=\"background:#6A9662; color:#FFF; padding:5px;\">3. Implementando o modelo matemático</h2>\n",
    "\n",
    "### <u>Organizando os parâmetros</u>"
   ]
  },
  {
   "cell_type": "code",
   "execution_count": 4,
   "metadata": {},
   "outputs": [],
   "source": [
    "# Número máximo de smartphones para vender na campanha\n",
    "N_1 = 500; N_2 = 600\n",
    "N_3 = 750; N_4 = 900\n",
    "N_5 = 1200"
   ]
  },
  {
   "cell_type": "code",
   "execution_count": 5,
   "metadata": {},
   "outputs": [],
   "source": [
    "# Preço de venda de smartphones \n",
    "V_1 = 640; V_2 = 790 \n",
    "V_3 = 880; V_4 = 950\n",
    "V_5 = 1100"
   ]
  },
  {
   "cell_type": "code",
   "execution_count": 6,
   "metadata": {},
   "outputs": [],
   "source": [
    "# Preço de custo das peças componentes para smartphones\n",
    "C_1 = 330; C_2 = 400\n",
    "C_3 = 440; C_4 = 500\n",
    "C_5 = 620"
   ]
  },
  {
   "cell_type": "code",
   "execution_count": 7,
   "metadata": {},
   "outputs": [],
   "source": [
    "# Custo de mão de obra de montagem por hora de smartphones\n",
    "MO_m1 = 11; MO_m2 = 11\n",
    "MO_m3 = 11; MO_m4 = 17\n",
    "MO_m5 = 17"
   ]
  },
  {
   "cell_type": "code",
   "execution_count": 8,
   "metadata": {},
   "outputs": [],
   "source": [
    "# Custo de mão de obra de teste por hora de smartphones \n",
    "MO_t1 = 15; MO_t2 = 15\n",
    "MO_t3 = 15; MO_t4 = 15\n",
    "MO_t5 = 15"
   ]
  },
  {
   "cell_type": "code",
   "execution_count": 9,
   "metadata": {},
   "outputs": [],
   "source": [
    "# Número máximo de horas de trabalho de montagem\n",
    "Hm = 20000 "
   ]
  },
  {
   "cell_type": "code",
   "execution_count": 10,
   "metadata": {},
   "outputs": [],
   "source": [
    "# Número máximo de horas de trabalho de teste\n",
    "Ht = 4000 "
   ]
  },
  {
   "cell_type": "code",
   "execution_count": 11,
   "metadata": {},
   "outputs": [],
   "source": [
    "# Horas de montagem necessárias para construir cada modelo de smartphone\n",
    "H_m1 = 5; H_m2 = 6\n",
    "H_m3 = 7; H_m4 = 8\n",
    "H_m5 = 9"
   ]
  },
  {
   "cell_type": "code",
   "execution_count": 12,
   "metadata": {},
   "outputs": [],
   "source": [
    "# Horas de teste necessárias para testar cada modelo de smartphone\n",
    "H_t1 = 1; H_t2 = 1\n",
    "H_t3 = 2; H_t4 = 2\n",
    "H_t5 = 3"
   ]
  },
  {
   "cell_type": "markdown",
   "metadata": {},
   "source": [
    "### <u>Criando variável para o Problema de Otimização</u>"
   ]
  },
  {
   "cell_type": "code",
   "execution_count": 13,
   "metadata": {},
   "outputs": [],
   "source": [
    "# Variável para o problema: otimizar o MixProdutos\n",
    "problema = LpProblem(\"MixProdutos\", LpMaximize)"
   ]
  },
  {
   "cell_type": "markdown",
   "metadata": {},
   "source": [
    "### <u>Definindo a variável de decisão ($X_i$) para cada um dos modelos de smartphone</u>"
   ]
  },
  {
   "cell_type": "code",
   "execution_count": 14,
   "metadata": {},
   "outputs": [],
   "source": [
    "# Define as variáveis\n",
    "## :param lowBound mínimo\n",
    "## :param upBound máximo (None significa sem limite máximo)\n",
    "## :param cat tipo de dado da variável\n",
    "X_1 = LpVariable(\"Unidades Lua1\", 200, N_1, LpInteger)\n",
    "X_2 = LpVariable(\"Unidades Lua2\", 200, N_2, LpInteger)\n",
    "X_3 = LpVariable(\"Unidades Lua3\", 200, N_3, LpInteger)\n",
    "X_4 = LpVariable(\"Unidades Lua4\", 200, N_4, LpInteger)\n",
    "X_5 = LpVariable(\"Unidades Lua5\", 200, N_5, LpInteger)"
   ]
  },
  {
   "cell_type": "markdown",
   "metadata": {},
   "source": [
    "### <u>Implementando a Função Objetivo</u>\n",
    "### $$Lucro=\\sum_{i=1}^{5}(X_i \\times V_i) - \\sum_{i=1}^{5}(X_i \\times MOm_i \\times Hm_i) - \\sum_{i=1}^{5}(X_i \\times MOt_i \\times Ht_i) - \\sum_{i=1}^{5}(X_i \\times C_i)$$"
   ]
  },
  {
   "cell_type": "code",
   "execution_count": 15,
   "metadata": {},
   "outputs": [
    {
     "data": {
      "text/plain": [
       "640*Unidades_Lua1 + 790*Unidades_Lua2 + 880*Unidades_Lua3 + 950*Unidades_Lua4 + 1100*Unidades_Lua5 + 0"
      ]
     },
     "execution_count": 15,
     "metadata": {},
     "output_type": "execute_result"
    }
   ],
   "source": [
    "# Venda: 1º componente da equação\n",
    "venda = (X_1 * V_1) + (X_2 * V_2) + (X_3 * V_3) + (X_4 * V_4) + (X_5 * V_5)\n",
    "venda"
   ]
  },
  {
   "cell_type": "code",
   "execution_count": 16,
   "metadata": {},
   "outputs": [
    {
     "data": {
      "text/plain": [
       "55*Unidades_Lua1 + 66*Unidades_Lua2 + 77*Unidades_Lua3 + 136*Unidades_Lua4 + 153*Unidades_Lua5 + 0"
      ]
     },
     "execution_count": 16,
     "metadata": {},
     "output_type": "execute_result"
    }
   ],
   "source": [
    "# Custo de Montagem: 2º componente da equação\n",
    "MO_montagem = (X_1 * MO_m1 * H_m1) + (X_2 * MO_m2 * H_m2) + (X_3 * MO_m3 * H_m3)\\\n",
    "+ (X_4 * MO_m4 * H_m4) + (X_5 * MO_m5 * H_m5)\n",
    "MO_montagem"
   ]
  },
  {
   "cell_type": "code",
   "execution_count": 17,
   "metadata": {},
   "outputs": [
    {
     "data": {
      "text/plain": [
       "15*Unidades_Lua1 + 15*Unidades_Lua2 + 30*Unidades_Lua3 + 30*Unidades_Lua4 + 45*Unidades_Lua5 + 0"
      ]
     },
     "execution_count": 17,
     "metadata": {},
     "output_type": "execute_result"
    }
   ],
   "source": [
    "# Custo de Teste: 3º componente da equação\n",
    "MO_teste = (X_1 * MO_t1 * H_t1) + (X_2 * MO_t2 * H_t2) + (X_3 * MO_t3 * H_t3)\\\n",
    "+ (X_4 * MO_t4 * H_t4) + (X_5 * MO_t5 * H_t5)\n",
    "MO_teste"
   ]
  },
  {
   "cell_type": "code",
   "execution_count": 18,
   "metadata": {},
   "outputs": [
    {
     "data": {
      "text/plain": [
       "330*Unidades_Lua1 + 400*Unidades_Lua2 + 440*Unidades_Lua3 + 500*Unidades_Lua4 + 620*Unidades_Lua5 + 0"
      ]
     },
     "execution_count": 18,
     "metadata": {},
     "output_type": "execute_result"
    }
   ],
   "source": [
    "# Custo de Componentes: 4º componente da equação\n",
    "Custo_pecas = (X_1 * C_1) + (X_2 * C_2)  + (X_3 * C_3)  + (X_4 * C_4)  + (X_5 * C_5) \n",
    "Custo_pecas"
   ]
  },
  {
   "cell_type": "code",
   "execution_count": 19,
   "metadata": {},
   "outputs": [
    {
     "data": {
      "text/plain": [
       "pulp.pulp.LpAffineExpression"
      ]
     },
     "execution_count": 19,
     "metadata": {},
     "output_type": "execute_result"
    }
   ],
   "source": [
    "type(Custo_pecas)"
   ]
  },
  {
   "cell_type": "code",
   "execution_count": 20,
   "metadata": {},
   "outputs": [
    {
     "data": {
      "text/plain": [
       "MixProdutos:\n",
       "MAXIMIZE\n",
       "240*Unidades_Lua1 + 309*Unidades_Lua2 + 333*Unidades_Lua3 + 284*Unidades_Lua4 + 282*Unidades_Lua5 + 0\n",
       "VARIABLES\n",
       "200 <= Unidades_Lua1 <= 500 Integer\n",
       "200 <= Unidades_Lua2 <= 600 Integer\n",
       "200 <= Unidades_Lua3 <= 750 Integer\n",
       "200 <= Unidades_Lua4 <= 900 Integer\n",
       "200 <= Unidades_Lua5 <= 1200 Integer"
      ]
     },
     "execution_count": 20,
     "metadata": {},
     "output_type": "execute_result"
    }
   ],
   "source": [
    "# Lucro = Venda - Custo de Montagem - Custo de Teste - Custo de Componentes\n",
    "problema += venda - MO_montagem - MO_teste - Custo_pecas\n",
    "problema"
   ]
  },
  {
   "cell_type": "markdown",
   "metadata": {},
   "source": [
    "### <u> Implementando as restrições</u>"
   ]
  },
  {
   "cell_type": "code",
   "execution_count": 21,
   "metadata": {},
   "outputs": [],
   "source": [
    "# Número máximo de horas de montagem\n",
    "problema.addConstraint((X_1 * H_m1) + (X_2 * H_m2) + (X_3 * H_m3) + (X_4 * H_m4) + (X_5 * H_m5) <= Hm, \n",
    "                       name = \"Número máximo de horas de montagem\")"
   ]
  },
  {
   "cell_type": "code",
   "execution_count": 22,
   "metadata": {},
   "outputs": [],
   "source": [
    "# Número máximo de horas de teste\n",
    "problema.addConstraint((X_1 * H_t1) + (X_2 * H_t2) + (X_3 * H_t3) + (X_4 * H_t4) + (X_5 * H_t5) <= Ht,\n",
    "                       name = \"Número máximo de horas de teste\")"
   ]
  },
  {
   "cell_type": "code",
   "execution_count": 23,
   "metadata": {},
   "outputs": [],
   "source": [
    "# O número de smartphones modelo tipo Lua5 não pode ser maior que o dobro da soma dos modelos tipo Lua1 e Lua3 \n",
    "problema.addConstraint(constraint = 2 * (X_1 + X_3) >= X_5,\n",
    "                      name = \"O número de Lua5 não pode ser maior que o dobro da soma dos tipo Lua1 e Lua3\")"
   ]
  },
  {
   "cell_type": "code",
   "execution_count": 28,
   "metadata": {},
   "outputs": [],
   "source": [
    "problema.addConstraint(constraint = (X_2 + X_3)/2 == X_4,\n",
    "                      name = \"O número de Lua4 deve ser metade do valor da soma das quantidaes para Lua2 e Lua3\")"
   ]
  },
  {
   "cell_type": "code",
   "execution_count": 29,
   "metadata": {},
   "outputs": [],
   "source": [
    "# Produção menor ou igual a demanda pelo modelo Lua1\n",
    "problema += X_1 <= N_1,\"Produção menor ou igual a demanda pelo modelo Lua1\""
   ]
  },
  {
   "cell_type": "code",
   "execution_count": 30,
   "metadata": {},
   "outputs": [],
   "source": [
    "# Produção menor ou igual a demanda pelo modelo Lua2\n",
    "problema += X_2 <= N_2,\"Produção menor ou igual a demanda pelo modelo Lua2\""
   ]
  },
  {
   "cell_type": "code",
   "execution_count": 31,
   "metadata": {},
   "outputs": [],
   "source": [
    "# Produção menor ou igual a demanda pelo modelo Lua3\n",
    "problema += X_3 <= N_3,\"Produção menor ou igual a demanda pelo modelo Lua3\""
   ]
  },
  {
   "cell_type": "code",
   "execution_count": 32,
   "metadata": {},
   "outputs": [
    {
     "data": {
      "text/plain": [
       "MixProdutos:\n",
       "MAXIMIZE\n",
       "240*Unidades_Lua1 + 309*Unidades_Lua2 + 333*Unidades_Lua3 + 284*Unidades_Lua4 + 282*Unidades_Lua5 + 0\n",
       "SUBJECT TO\n",
       "Número_máximo_de_horas_de_montagem: 5 Unidades_Lua1 + 6 Unidades_Lua2\n",
       " + 7 Unidades_Lua3 + 8 Unidades_Lua4 + 9 Unidades_Lua5 <= 20000\n",
       "\n",
       "Número_máximo_de_horas_de_teste: Unidades_Lua1 + Unidades_Lua2\n",
       " + 2 Unidades_Lua3 + 2 Unidades_Lua4 + 3 Unidades_Lua5 <= 4000\n",
       "\n",
       "O_número_de_Lua5_não_pode_ser_maior_que_o_dobro_da_soma_dos_tipo_Lua1_e_Lua3:\n",
       " 2 Unidades_Lua1 + 2 Unidades_Lua3 - Unidades_Lua5 >= 0\n",
       "\n",
       "O_número_de_Lua4_deve_ser_metade_do_valor_da_soma_das_quantidaes_para_Lua2_e_Lua3:\n",
       " 0.5 Unidades_Lua2 + 0.5 Unidades_Lua3 - Unidades_Lua4 = 0\n",
       "\n",
       "Produção_menor_ou_igual_a_demanda_pelo_modelo_Lua1: Unidades_Lua1 <= 500\n",
       "\n",
       "Produção_menor_ou_igual_a_demanda_pelo_modelo_Lua2: Unidades_Lua2 <= 600\n",
       "\n",
       "Produção_menor_ou_igual_a_demanda_pelo_modelo_Lua3: Unidades_Lua3 <= 750\n",
       "\n",
       "VARIABLES\n",
       "200 <= Unidades_Lua1 <= 500 Integer\n",
       "200 <= Unidades_Lua2 <= 600 Integer\n",
       "200 <= Unidades_Lua3 <= 750 Integer\n",
       "200 <= Unidades_Lua4 <= 900 Integer\n",
       "200 <= Unidades_Lua5 <= 1200 Integer"
      ]
     },
     "execution_count": 32,
     "metadata": {},
     "output_type": "execute_result"
    }
   ],
   "source": [
    "# Problema final\n",
    "problema"
   ]
  },
  {
   "cell_type": "markdown",
   "metadata": {},
   "source": [
    "### <u>Resolvendo o problema de otimização do lucro com mix de produtos</u>"
   ]
  },
  {
   "cell_type": "code",
   "execution_count": 33,
   "metadata": {},
   "outputs": [
    {
     "data": {
      "text/plain": [
       "1"
      ]
     },
     "execution_count": 33,
     "metadata": {},
     "output_type": "execute_result"
    }
   ],
   "source": [
    "# Otimização - olhar o terminal para verificar se houve algum problema na execução\n",
    "problema.solve()"
   ]
  },
  {
   "cell_type": "markdown",
   "metadata": {},
   "source": [
    "Return status from solver:\n",
    "\n",
    "|LpStatus key|string value|numerical value|\n",
    "|:-----------|:----------:|--------------:|\n",
    "|LpStatusOptimal|“Optimal”|1|\n",
    "|LpStatusNotSolved|“Not Solved”|0|\n",
    "|LpStatusInfeasible|“Infeasible”|-1|\n",
    "|LpStatusUnbounded|“Unbounded”|-2|\n",
    "|LpStatusUndefined|“Undefined”|-3|"
   ]
  },
  {
   "cell_type": "code",
   "execution_count": 34,
   "metadata": {},
   "outputs": [
    {
     "name": "stdout",
     "output_type": "stream",
     "text": [
      "Lucro Maximizado: 715898.0\n"
     ]
    }
   ],
   "source": [
    "# Lucro Maximizado\n",
    "print(\"Lucro Maximizado:\", value(problema.objective))"
   ]
  },
  {
   "cell_type": "code",
   "execution_count": 35,
   "metadata": {},
   "outputs": [
    {
     "name": "stdout",
     "output_type": "stream",
     "text": [
      "Modelo Lua1 : 500.0\n",
      "Modelo Lua2 : 598.0\n",
      "Modelo Lua3 : 568.0\n",
      "Modelo Lua4 : 583.0\n",
      "Modelo Lua5 : 200.0\n"
     ]
    }
   ],
   "source": [
    "# Número de Unidades a serem produzidas de cada smartphone\n",
    "for i in range(0,5):\n",
    "    print(\"Modelo Lua{} :\".format(i+1), problema.variables()[i].varValue)"
   ]
  },
  {
   "cell_type": "markdown",
   "metadata": {},
   "source": [
    "<h2 style=\"background:#6A9662; color:#FFF; padding:5px;\">4. Conclusão</h2>\n",
    "\n",
    "A empresa _Lua Smart Tech_ deve produzir as seguintes quantidades por tipo de smartphone:\n",
    "- Modelo Lua1 : 500.0\n",
    "- Modelo Lua2 : 598.0\n",
    "- Modelo Lua3 : 568.0\n",
    "- Modelo Lua4 : 583.0\n",
    "- Modelo Lua5 : 200.0\n",
    "\n",
    "Para atingir o **lucro máximo de: R\\$ 715.898**"
   ]
  }
 ],
 "metadata": {
  "kernelspec": {
   "display_name": "Python 3",
   "language": "python",
   "name": "python3"
  },
  "language_info": {
   "codemirror_mode": {
    "name": "ipython",
    "version": 3
   },
   "file_extension": ".py",
   "mimetype": "text/x-python",
   "name": "python",
   "nbconvert_exporter": "python",
   "pygments_lexer": "ipython3",
   "version": "3.7.4"
  }
 },
 "nbformat": 4,
 "nbformat_minor": 2
}
